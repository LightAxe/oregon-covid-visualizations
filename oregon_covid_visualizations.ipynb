{
  "nbformat": 4,
  "nbformat_minor": 0,
  "metadata": {
    "colab": {
      "name": "oregon-covid-visualizations",
      "provenance": [],
      "collapsed_sections": [],
      "authorship_tag": "ABX9TyOwtW3PaKfIJ+DOafYxTwjN",
      "include_colab_link": true
    },
    "kernelspec": {
      "name": "python3",
      "display_name": "Python 3"
    }
  },
  "cells": [
    {
      "cell_type": "markdown",
      "metadata": {
        "id": "view-in-github",
        "colab_type": "text"
      },
      "source": [
        "<a href=\"https://colab.research.google.com/github/LightAxe/oregon-covid-visualizations/blob/main/oregon_covid_visualizations.ipynb\" target=\"_parent\"><img src=\"https://colab.research.google.com/assets/colab-badge.svg\" alt=\"Open In Colab\"/></a>"
      ]
    },
    {
      "cell_type": "markdown",
      "metadata": {
        "id": "8j9POxoyyBMU"
      },
      "source": [
        "Look at this:  https://github.com/briancpark/COVID-19-Visualizations/blob/master/COVID19%20Visualizations.ipynb"
      ]
    },
    {
      "cell_type": "code",
      "metadata": {
        "id": "FeAvZW1RlcDw"
      },
      "source": [
        "import pandas as pd\n",
        "import matplotlib.pyplot as plt\n"
      ],
      "execution_count": null,
      "outputs": []
    },
    {
      "cell_type": "code",
      "metadata": {
        "id": "DJa0izuzmuHJ",
        "outputId": "80ed2926-df59-488b-aeb0-a5d8a7216b46",
        "colab": {
          "base_uri": "https://localhost:8080/",
          "height": 204
        }
      },
      "source": [
        "url = 'https://raw.githubusercontent.com/nytimes/covid-19-data/master/us-counties.csv'\n",
        "all_counties = pd.read_csv(url, dtype={\"fips\": str})\n",
        "all_counties.date = pd.to_datetime(all_counties.date)\n",
        "\n",
        "all_counties.head()"
      ],
      "execution_count": null,
      "outputs": [
        {
          "output_type": "execute_result",
          "data": {
            "text/html": [
              "<div>\n",
              "<style scoped>\n",
              "    .dataframe tbody tr th:only-of-type {\n",
              "        vertical-align: middle;\n",
              "    }\n",
              "\n",
              "    .dataframe tbody tr th {\n",
              "        vertical-align: top;\n",
              "    }\n",
              "\n",
              "    .dataframe thead th {\n",
              "        text-align: right;\n",
              "    }\n",
              "</style>\n",
              "<table border=\"1\" class=\"dataframe\">\n",
              "  <thead>\n",
              "    <tr style=\"text-align: right;\">\n",
              "      <th></th>\n",
              "      <th>date</th>\n",
              "      <th>county</th>\n",
              "      <th>state</th>\n",
              "      <th>fips</th>\n",
              "      <th>cases</th>\n",
              "      <th>deaths</th>\n",
              "    </tr>\n",
              "  </thead>\n",
              "  <tbody>\n",
              "    <tr>\n",
              "      <th>0</th>\n",
              "      <td>2020-01-21</td>\n",
              "      <td>Snohomish</td>\n",
              "      <td>Washington</td>\n",
              "      <td>53061</td>\n",
              "      <td>1</td>\n",
              "      <td>0</td>\n",
              "    </tr>\n",
              "    <tr>\n",
              "      <th>1</th>\n",
              "      <td>2020-01-22</td>\n",
              "      <td>Snohomish</td>\n",
              "      <td>Washington</td>\n",
              "      <td>53061</td>\n",
              "      <td>1</td>\n",
              "      <td>0</td>\n",
              "    </tr>\n",
              "    <tr>\n",
              "      <th>2</th>\n",
              "      <td>2020-01-23</td>\n",
              "      <td>Snohomish</td>\n",
              "      <td>Washington</td>\n",
              "      <td>53061</td>\n",
              "      <td>1</td>\n",
              "      <td>0</td>\n",
              "    </tr>\n",
              "    <tr>\n",
              "      <th>3</th>\n",
              "      <td>2020-01-24</td>\n",
              "      <td>Cook</td>\n",
              "      <td>Illinois</td>\n",
              "      <td>17031</td>\n",
              "      <td>1</td>\n",
              "      <td>0</td>\n",
              "    </tr>\n",
              "    <tr>\n",
              "      <th>4</th>\n",
              "      <td>2020-01-24</td>\n",
              "      <td>Snohomish</td>\n",
              "      <td>Washington</td>\n",
              "      <td>53061</td>\n",
              "      <td>1</td>\n",
              "      <td>0</td>\n",
              "    </tr>\n",
              "  </tbody>\n",
              "</table>\n",
              "</div>"
            ],
            "text/plain": [
              "        date     county       state   fips  cases  deaths\n",
              "0 2020-01-21  Snohomish  Washington  53061      1       0\n",
              "1 2020-01-22  Snohomish  Washington  53061      1       0\n",
              "2 2020-01-23  Snohomish  Washington  53061      1       0\n",
              "3 2020-01-24       Cook    Illinois  17031      1       0\n",
              "4 2020-01-24  Snohomish  Washington  53061      1       0"
            ]
          },
          "metadata": {
            "tags": []
          },
          "execution_count": 2
        }
      ]
    },
    {
      "cell_type": "code",
      "metadata": {
        "id": "NjPxc-2N3dn0"
      },
      "source": [
        "def calc_daily_diff(county):\n",
        "  dframe = county\n",
        "  dframe['delta'] = county['cases'] - county['cases'].shift(1, fill_value=0)\n",
        "  return dframe"
      ],
      "execution_count": null,
      "outputs": []
    },
    {
      "cell_type": "code",
      "metadata": {
        "id": "DAcJsI_rWTDX"
      },
      "source": [
        "def get_state(state_name, df):\n",
        "  state = df.loc[df['state'] == state_name]\n",
        "  return state"
      ],
      "execution_count": null,
      "outputs": []
    },
    {
      "cell_type": "code",
      "metadata": {
        "id": "g2h04O0v6aBz"
      },
      "source": [
        "def get_oregon(all_counties):\n",
        "  oregon = get_state('Oregon', all_counties)\n",
        "  return oregon"
      ],
      "execution_count": null,
      "outputs": []
    },
    {
      "cell_type": "code",
      "metadata": {
        "id": "et5ZlsAvYgls"
      },
      "source": [
        "def get_county_pops():\n",
        "  counties_url = 'http://rob.axpr.net/oregoncounties.csv'\n",
        "  counties = pd.read_csv(counties_url, dtype={\"CTYNAME\": str})\n",
        "  counties[\"CTYNAME\"] = counties[\"CTYNAME\"].str.split(\" \", n = 1, expand = True) \n",
        "  counties.drop(labels=\"GrowthRate\", axis=1, inplace=True)\n",
        "  counties.rename(columns={\"CTYNAME\": \"county\", \"pop2020\": \"population\"}, errors=\"raise\", inplace=True)\n",
        "  return counties"
      ],
      "execution_count": null,
      "outputs": []
    },
    {
      "cell_type": "code",
      "metadata": {
        "id": "ze81gJqjlQKj"
      },
      "source": [
        "def get_county(county_name, df):\n",
        "  county = df.loc[df['county'] == county_name]\n",
        "  county = calc_daily_diff(county)\n",
        "  county.drop(labels=['state','cases','deaths','fips'], axis=1, inplace=True)\n",
        "  county['report_date'] = county['date']\n",
        "  county.set_index('date', inplace=True)\n",
        "\n",
        "  county_pops = get_county_pops()\n",
        "  \n",
        "  county = pd.merge(county, county_pops, on = 'county', how = 'left')\n",
        "  return county"
      ],
      "execution_count": null,
      "outputs": []
    },
    {
      "cell_type": "code",
      "metadata": {
        "id": "E2B11aUXbOcR"
      },
      "source": [
        "def get_polk(oregon):\n",
        "  polk = get_county('Polk', oregon)\n",
        "  return polk"
      ],
      "execution_count": null,
      "outputs": []
    },
    {
      "cell_type": "code",
      "metadata": {
        "id": "wj_3mRM5k2W1"
      },
      "source": [
        "def calc_cases_per_100k(county):\n",
        "  county['rolling_14'] = county['delta'].rolling(min_periods=1, window=14).sum()\n",
        "  county['rolling_14_per'] = county['rolling_14'] / county['population'] * 100000\n",
        "  return county"
      ],
      "execution_count": null,
      "outputs": []
    },
    {
      "cell_type": "code",
      "metadata": {
        "id": "Ho4H_ThVYKbL",
        "outputId": "ce90e5a4-993e-4e44-854a-2c2edc9f4ab8",
        "colab": {
          "base_uri": "https://localhost:8080/",
          "height": 1000
        }
      },
      "source": [
        "oregon = get_state('Oregon', all_counties)\n",
        "\n",
        "polk = get_county('Polk', oregon)\n",
        "\n",
        "polk = calc_cases_per_100k(polk)\n",
        "polk['distance_learning'] = 200\n",
        "polk['onsite_and_distance'] = 50\n",
        "polk['transition'] = 100\n",
        "\n",
        "# What I want:  The rolling 14 day case count with background colors denoting the range\n",
        "# Workaround:  Lines denoting the range changes\n",
        "polk.plot(y = ['rolling_14_per','onsite_and_distance','transition','distance_learning'], color=['b','g','y','r'], x = 'report_date')\n",
        "\n",
        "# Experimenting with not using plot()\n",
        "fig, ax = plt.subplots()\n",
        "ax.bar(polk['report_date'],\n",
        "       polk['rolling_14_per'],\n",
        "       color='purple')\n",
        "\n",
        "polk.tail()"
      ],
      "execution_count": null,
      "outputs": [
        {
          "output_type": "stream",
          "text": [
            "/usr/local/lib/python3.6/dist-packages/ipykernel_launcher.py:3: SettingWithCopyWarning: \n",
            "A value is trying to be set on a copy of a slice from a DataFrame.\n",
            "Try using .loc[row_indexer,col_indexer] = value instead\n",
            "\n",
            "See the caveats in the documentation: https://pandas.pydata.org/pandas-docs/stable/user_guide/indexing.html#returning-a-view-versus-a-copy\n",
            "  This is separate from the ipykernel package so we can avoid doing imports until\n",
            "/usr/local/lib/python3.6/dist-packages/pandas/core/frame.py:4174: SettingWithCopyWarning: \n",
            "A value is trying to be set on a copy of a slice from a DataFrame\n",
            "\n",
            "See the caveats in the documentation: https://pandas.pydata.org/pandas-docs/stable/user_guide/indexing.html#returning-a-view-versus-a-copy\n",
            "  errors=errors,\n",
            "/usr/local/lib/python3.6/dist-packages/ipykernel_launcher.py:5: SettingWithCopyWarning: \n",
            "A value is trying to be set on a copy of a slice from a DataFrame.\n",
            "Try using .loc[row_indexer,col_indexer] = value instead\n",
            "\n",
            "See the caveats in the documentation: https://pandas.pydata.org/pandas-docs/stable/user_guide/indexing.html#returning-a-view-versus-a-copy\n",
            "  \"\"\"\n"
          ],
          "name": "stderr"
        },
        {
          "output_type": "execute_result",
          "data": {
            "text/html": [
              "<div>\n",
              "<style scoped>\n",
              "    .dataframe tbody tr th:only-of-type {\n",
              "        vertical-align: middle;\n",
              "    }\n",
              "\n",
              "    .dataframe tbody tr th {\n",
              "        vertical-align: top;\n",
              "    }\n",
              "\n",
              "    .dataframe thead th {\n",
              "        text-align: right;\n",
              "    }\n",
              "</style>\n",
              "<table border=\"1\" class=\"dataframe\">\n",
              "  <thead>\n",
              "    <tr style=\"text-align: right;\">\n",
              "      <th></th>\n",
              "      <th>county</th>\n",
              "      <th>delta</th>\n",
              "      <th>report_date</th>\n",
              "      <th>population</th>\n",
              "      <th>rolling_14</th>\n",
              "      <th>rolling_14_per</th>\n",
              "      <th>distance_learning</th>\n",
              "      <th>onsite_and_distance</th>\n",
              "      <th>transition</th>\n",
              "    </tr>\n",
              "  </thead>\n",
              "  <tbody>\n",
              "    <tr>\n",
              "      <th>240</th>\n",
              "      <td>Polk</td>\n",
              "      <td>15</td>\n",
              "      <td>2020-11-06</td>\n",
              "      <td>88200</td>\n",
              "      <td>112.0</td>\n",
              "      <td>126.984127</td>\n",
              "      <td>200</td>\n",
              "      <td>50</td>\n",
              "      <td>100</td>\n",
              "    </tr>\n",
              "    <tr>\n",
              "      <th>241</th>\n",
              "      <td>Polk</td>\n",
              "      <td>11</td>\n",
              "      <td>2020-11-07</td>\n",
              "      <td>88200</td>\n",
              "      <td>118.0</td>\n",
              "      <td>133.786848</td>\n",
              "      <td>200</td>\n",
              "      <td>50</td>\n",
              "      <td>100</td>\n",
              "    </tr>\n",
              "    <tr>\n",
              "      <th>242</th>\n",
              "      <td>Polk</td>\n",
              "      <td>17</td>\n",
              "      <td>2020-11-08</td>\n",
              "      <td>88200</td>\n",
              "      <td>133.0</td>\n",
              "      <td>150.793651</td>\n",
              "      <td>200</td>\n",
              "      <td>50</td>\n",
              "      <td>100</td>\n",
              "    </tr>\n",
              "    <tr>\n",
              "      <th>243</th>\n",
              "      <td>Polk</td>\n",
              "      <td>17</td>\n",
              "      <td>2020-11-09</td>\n",
              "      <td>88200</td>\n",
              "      <td>146.0</td>\n",
              "      <td>165.532880</td>\n",
              "      <td>200</td>\n",
              "      <td>50</td>\n",
              "      <td>100</td>\n",
              "    </tr>\n",
              "    <tr>\n",
              "      <th>244</th>\n",
              "      <td>Polk</td>\n",
              "      <td>15</td>\n",
              "      <td>2020-11-10</td>\n",
              "      <td>88200</td>\n",
              "      <td>158.0</td>\n",
              "      <td>179.138322</td>\n",
              "      <td>200</td>\n",
              "      <td>50</td>\n",
              "      <td>100</td>\n",
              "    </tr>\n",
              "  </tbody>\n",
              "</table>\n",
              "</div>"
            ],
            "text/plain": [
              "    county  delta  ... onsite_and_distance  transition\n",
              "240   Polk     15  ...                  50         100\n",
              "241   Polk     11  ...                  50         100\n",
              "242   Polk     17  ...                  50         100\n",
              "243   Polk     17  ...                  50         100\n",
              "244   Polk     15  ...                  50         100\n",
              "\n",
              "[5 rows x 9 columns]"
            ]
          },
          "metadata": {
            "tags": []
          },
          "execution_count": 10
        },
        {
          "output_type": "display_data",
          "data": {
            "image/png": "[encoded data removed]",
            "text/plain": [
              "<Figure size 432x288 with 1 Axes>"
            ]
          },
          "metadata": {
            "tags": [],
            "needs_background": "light"
          }
        },
        {
          "output_type": "display_data",
          "data": {
            "image/png": "[encoded data removed]",
            "text/plain": [
              "<Figure size 432x288 with 1 Axes>"
            ]
          },
          "metadata": {
            "tags": [],
            "needs_background": "light"
          }
        }
      ]
    },
    {
      "cell_type": "code",
      "metadata": {
        "id": "QTsU478IDNZu",
        "outputId": "5c8f34d4-545c-4f4f-f2ae-97aa188c999e",
        "colab": {
          "base_uri": "https://localhost:8080/",
          "height": 422
        }
      },
      "source": [
        "#Playing around with getting all the counties in Oregon to display and calculate deltas\n",
        "\n",
        "oregon = get_state('Oregon', all_counties)\n",
        "oregon.head()\n",
        "#dframe['delta'] = county['cases'] - county['cases'].shift(1, fill_value=0)\n",
        "oregon.set_index('date', inplace=True)\n",
        "oregon.sort_values('county', inplace=True)\n",
        "\n",
        "# This is not working; I was hoping to find the differences from one day to another on a per-county basis\n",
        "oregon['delta'] = oregon.groupby(['state','county'])['cases'].shift(1, fill_value=0)\n",
        "oregon.tail()"
      ],
      "execution_count": null,
      "outputs": [
        {
          "output_type": "stream",
          "text": [
            "/usr/local/lib/python3.6/dist-packages/ipykernel_launcher.py:7: SettingWithCopyWarning: \n",
            "A value is trying to be set on a copy of a slice from a DataFrame\n",
            "\n",
            "See the caveats in the documentation: https://pandas.pydata.org/pandas-docs/stable/user_guide/indexing.html#returning-a-view-versus-a-copy\n",
            "  import sys\n",
            "/usr/local/lib/python3.6/dist-packages/ipykernel_launcher.py:10: SettingWithCopyWarning: \n",
            "A value is trying to be set on a copy of a slice from a DataFrame.\n",
            "Try using .loc[row_indexer,col_indexer] = value instead\n",
            "\n",
            "See the caveats in the documentation: https://pandas.pydata.org/pandas-docs/stable/user_guide/indexing.html#returning-a-view-versus-a-copy\n",
            "  # Remove the CWD from sys.path while we load stuff.\n"
          ],
          "name": "stderr"
        },
        {
          "output_type": "execute_result",
          "data": {
            "text/html": [
              "<div>\n",
              "<style scoped>\n",
              "    .dataframe tbody tr th:only-of-type {\n",
              "        vertical-align: middle;\n",
              "    }\n",
              "\n",
              "    .dataframe tbody tr th {\n",
              "        vertical-align: top;\n",
              "    }\n",
              "\n",
              "    .dataframe thead th {\n",
              "        text-align: right;\n",
              "    }\n",
              "</style>\n",
              "<table border=\"1\" class=\"dataframe\">\n",
              "  <thead>\n",
              "    <tr style=\"text-align: right;\">\n",
              "      <th></th>\n",
              "      <th>county</th>\n",
              "      <th>state</th>\n",
              "      <th>fips</th>\n",
              "      <th>cases</th>\n",
              "      <th>deaths</th>\n",
              "      <th>delta</th>\n",
              "    </tr>\n",
              "    <tr>\n",
              "      <th>date</th>\n",
              "      <th></th>\n",
              "      <th></th>\n",
              "      <th></th>\n",
              "      <th></th>\n",
              "      <th></th>\n",
              "      <th></th>\n",
              "    </tr>\n",
              "  </thead>\n",
              "  <tbody>\n",
              "    <tr>\n",
              "      <th>2020-07-18</th>\n",
              "      <td>Yamhill</td>\n",
              "      <td>Oregon</td>\n",
              "      <td>41071</td>\n",
              "      <td>229</td>\n",
              "      <td>9</td>\n",
              "      <td>222</td>\n",
              "    </tr>\n",
              "    <tr>\n",
              "      <th>2020-07-19</th>\n",
              "      <td>Yamhill</td>\n",
              "      <td>Oregon</td>\n",
              "      <td>41071</td>\n",
              "      <td>235</td>\n",
              "      <td>9</td>\n",
              "      <td>229</td>\n",
              "    </tr>\n",
              "    <tr>\n",
              "      <th>2020-07-20</th>\n",
              "      <td>Yamhill</td>\n",
              "      <td>Oregon</td>\n",
              "      <td>41071</td>\n",
              "      <td>241</td>\n",
              "      <td>9</td>\n",
              "      <td>235</td>\n",
              "    </tr>\n",
              "    <tr>\n",
              "      <th>2020-07-21</th>\n",
              "      <td>Yamhill</td>\n",
              "      <td>Oregon</td>\n",
              "      <td>41071</td>\n",
              "      <td>248</td>\n",
              "      <td>9</td>\n",
              "      <td>241</td>\n",
              "    </tr>\n",
              "    <tr>\n",
              "      <th>2020-11-10</th>\n",
              "      <td>Yamhill</td>\n",
              "      <td>Oregon</td>\n",
              "      <td>41071</td>\n",
              "      <td>1208</td>\n",
              "      <td>15</td>\n",
              "      <td>248</td>\n",
              "    </tr>\n",
              "  </tbody>\n",
              "</table>\n",
              "</div>"
            ],
            "text/plain": [
              "             county   state   fips  cases  deaths  delta\n",
              "date                                                    \n",
              "2020-07-18  Yamhill  Oregon  41071    229       9    222\n",
              "2020-07-19  Yamhill  Oregon  41071    235       9    229\n",
              "2020-07-20  Yamhill  Oregon  41071    241       9    235\n",
              "2020-07-21  Yamhill  Oregon  41071    248       9    241\n",
              "2020-11-10  Yamhill  Oregon  41071   1208      15    248"
            ]
          },
          "metadata": {
            "tags": []
          },
          "execution_count": 12
        }
      ]
    }
  ]
}