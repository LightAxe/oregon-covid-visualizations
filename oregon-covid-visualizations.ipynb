{
  "nbformat": 4,
  "nbformat_minor": 0,
  "metadata": {
    "colab": {
      "name": "COVID Timeseries by US County.ipynb",
      "provenance": [],
      "authorship_tag": "ABX9TyNW6KnIjw3iR/pF2Jy56EAD",
      "include_colab_link": true
    },
    "kernelspec": {
      "name": "python3",
      "display_name": "Python 3"
    }
  },
  "cells": [
    {
      "cell_type": "markdown",
      "metadata": {
        "id": "view-in-github",
        "colab_type": "text"
      },
      "source": [
        "<a href=\"https://colab.research.google.com/github/LightAxe/oregon-covid-visualizations/blob/main/oregon-covid-visualizations.ipynb\" target=\"_parent\"><img src=\"https://colab.research.google.com/assets/colab-badge.svg\" alt=\"Open In Colab\"/></a>"
      ]
    },
    {
      "cell_type": "markdown",
      "metadata": {
        "id": "8j9POxoyyBMU"
      },
      "source": [
        "Look at this:  https://github.com/briancpark/COVID-19-Visualizations/blob/master/COVID19%20Visualizations.ipynb"
      ]
    },
    {
      "cell_type": "code",
      "metadata": {
        "id": "FeAvZW1RlcDw"
      },
      "source": [
        "import pandas as pd\n",
        "import matplotlib.pyplot as plt\n"
      ],
      "execution_count": null,
      "outputs": []
    },
    {
      "cell_type": "code",
      "metadata": {
        "id": "DJa0izuzmuHJ"
      },
      "source": [
        "url = 'https://raw.githubusercontent.com/nytimes/covid-19-data/master/us-counties.csv'\n",
        "all_counties = pd.read_csv(url, dtype={\"fips\": str})\n",
        "all_counties.date = pd.to_datetime(all_counties.date)"
      ],
      "execution_count": null,
      "outputs": []
    },
    {
      "cell_type": "code",
      "metadata": {
        "id": "NjPxc-2N3dn0"
      },
      "source": [
        "def calc_daily_diff(county):\n",
        "  dframe = county\n",
        "  dframe['delta'] = county['cases'] - county['cases'].shift(1, fill_value=0)\n",
        "  return dframe"
      ],
      "execution_count": null,
      "outputs": []
    },
    {
      "cell_type": "code",
      "metadata": {
        "id": "DAcJsI_rWTDX"
      },
      "source": [
        "def get_state(state_name, df):\n",
        "  state = df.loc[df['state'] == state_name]\n",
        "  return state"
      ],
      "execution_count": null,
      "outputs": []
    },
    {
      "cell_type": "code",
      "metadata": {
        "id": "g2h04O0v6aBz"
      },
      "source": [
        "def get_oregon(all_counties):\n",
        "  oregon = get_state('Oregon', all_counties)\n",
        "  return oregon"
      ],
      "execution_count": null,
      "outputs": []
    },
    {
      "cell_type": "code",
      "metadata": {
        "id": "et5ZlsAvYgls"
      },
      "source": [
        "def get_county_pops():\n",
        "  counties_url = 'http://rob.axpr.net/oregoncounties.csv'\n",
        "  counties = pd.read_csv(counties_url, dtype={\"CTYNAME\": str})\n",
        "  counties[\"CTYNAME\"] = counties[\"CTYNAME\"].str.split(\" \", n = 1, expand = True) \n",
        "  counties.drop(labels=\"GrowthRate\", axis=1, inplace=True)\n",
        "  counties.rename(columns={\"CTYNAME\": \"county\", \"pop2020\": \"population\"}, errors=\"raise\", inplace=True)\n",
        "  return counties"
      ],
      "execution_count": null,
      "outputs": []
    },
    {
      "cell_type": "code",
      "metadata": {
        "id": "ze81gJqjlQKj"
      },
      "source": [
        "def get_county(county_name, df):\n",
        "  county = df.loc[df['county'] == county_name]\n",
        "  county = calc_daily_diff(county)\n",
        "  county.drop(labels=['state','cases','deaths','fips'], axis=1, inplace=True)\n",
        "  county['report_date'] = county['date']\n",
        "  county.set_index('date', inplace=True)\n",
        "\n",
        "  county_pops = get_county_pops()\n",
        "  \n",
        "  county = pd.merge(county, county_pops, on = 'county', how = 'left')\n",
        "  return county"
      ],
      "execution_count": null,
      "outputs": []
    },
    {
      "cell_type": "code",
      "metadata": {
        "id": "E2B11aUXbOcR"
      },
      "source": [
        "def get_polk(oregon):\n",
        "  polk = get_county('Polk', oregon)\n",
        "  return polk"
      ],
      "execution_count": null,
      "outputs": []
    },
    {
      "cell_type": "code",
      "metadata": {
        "id": "wj_3mRM5k2W1"
      },
      "source": [
        "def calc_cases_per_100k(county):\n",
        "  county['rolling_14'] = county['delta'].rolling(min_periods=1, window=14).sum()\n",
        "  county['rolling_14_per'] = county['rolling_14'] / county['population'] * 100000\n",
        "  return county"
      ],
      "execution_count": null,
      "outputs": []
    },
    {
      "cell_type": "code",
      "metadata": {
        "id": "Ho4H_ThVYKbL",
        "outputId": "9d2a3187-a9eb-4ddc-bcd9-df6acd422067",
        "colab": {
          "base_uri": "https://localhost:8080/",
          "height": 1000
        }
      },
      "source": [
        "oregon = get_state('Oregon', all_counties)\n",
        "\n",
        "polk = get_county('Malheur', oregon)\n",
        "\n",
        "polk = calc_cases_per_100k(polk)\n",
        "polk['distance_learning'] = 200\n",
        "polk['onsite_and_distance'] = 50\n",
        "polk['transition'] = 100\n",
        "\n",
        "polk.plot(y = ['rolling_14_per','onsite_and_distance','transition','distance_learning'], color=['b','g','y','r'], x = 'report_date')\n",
        "\n",
        "fig, ax = plt.subplots()\n",
        "\n",
        "# Add x-axis and y-axis\n",
        "ax.bar(polk['report_date'],\n",
        "       polk['rolling_14_per'],\n",
        "       color='purple')\n",
        "\n",
        "polk.tail()"
      ],
      "execution_count": null,
      "outputs": [
        {
          "output_type": "stream",
          "text": [
            "/usr/local/lib/python3.6/dist-packages/ipykernel_launcher.py:3: SettingWithCopyWarning: \n",
            "A value is trying to be set on a copy of a slice from a DataFrame.\n",
            "Try using .loc[row_indexer,col_indexer] = value instead\n",
            "\n",
            "See the caveats in the documentation: https://pandas.pydata.org/pandas-docs/stable/user_guide/indexing.html#returning-a-view-versus-a-copy\n",
            "  This is separate from the ipykernel package so we can avoid doing imports until\n",
            "/usr/local/lib/python3.6/dist-packages/pandas/core/frame.py:4174: SettingWithCopyWarning: \n",
            "A value is trying to be set on a copy of a slice from a DataFrame\n",
            "\n",
            "See the caveats in the documentation: https://pandas.pydata.org/pandas-docs/stable/user_guide/indexing.html#returning-a-view-versus-a-copy\n",
            "  errors=errors,\n",
            "/usr/local/lib/python3.6/dist-packages/ipykernel_launcher.py:5: SettingWithCopyWarning: \n",
            "A value is trying to be set on a copy of a slice from a DataFrame.\n",
            "Try using .loc[row_indexer,col_indexer] = value instead\n",
            "\n",
            "See the caveats in the documentation: https://pandas.pydata.org/pandas-docs/stable/user_guide/indexing.html#returning-a-view-versus-a-copy\n",
            "  \"\"\"\n"
          ],
          "name": "stderr"
        },
        {
          "output_type": "execute_result",
          "data": {
            "text/html": [
              "<div>\n",
              "<style scoped>\n",
              "    .dataframe tbody tr th:only-of-type {\n",
              "        vertical-align: middle;\n",
              "    }\n",
              "\n",
              "    .dataframe tbody tr th {\n",
              "        vertical-align: top;\n",
              "    }\n",
              "\n",
              "    .dataframe thead th {\n",
              "        text-align: right;\n",
              "    }\n",
              "</style>\n",
              "<table border=\"1\" class=\"dataframe\">\n",
              "  <thead>\n",
              "    <tr style=\"text-align: right;\">\n",
              "      <th></th>\n",
              "      <th>county</th>\n",
              "      <th>delta</th>\n",
              "      <th>report_date</th>\n",
              "      <th>population</th>\n",
              "      <th>rolling_14</th>\n",
              "      <th>rolling_14_per</th>\n",
              "      <th>distance_learning</th>\n",
              "      <th>onsite_and_distance</th>\n",
              "      <th>transition</th>\n",
              "    </tr>\n",
              "  </thead>\n",
              "  <tbody>\n",
              "    <tr>\n",
              "      <th>217</th>\n",
              "      <td>Malheur</td>\n",
              "      <td>16</td>\n",
              "      <td>2020-11-03</td>\n",
              "      <td>31255</td>\n",
              "      <td>150.0</td>\n",
              "      <td>479.923212</td>\n",
              "      <td>200</td>\n",
              "      <td>50</td>\n",
              "      <td>100</td>\n",
              "    </tr>\n",
              "    <tr>\n",
              "      <th>218</th>\n",
              "      <td>Malheur</td>\n",
              "      <td>11</td>\n",
              "      <td>2020-11-04</td>\n",
              "      <td>31255</td>\n",
              "      <td>153.0</td>\n",
              "      <td>489.521677</td>\n",
              "      <td>200</td>\n",
              "      <td>50</td>\n",
              "      <td>100</td>\n",
              "    </tr>\n",
              "    <tr>\n",
              "      <th>219</th>\n",
              "      <td>Malheur</td>\n",
              "      <td>17</td>\n",
              "      <td>2020-11-05</td>\n",
              "      <td>31255</td>\n",
              "      <td>152.0</td>\n",
              "      <td>486.322188</td>\n",
              "      <td>200</td>\n",
              "      <td>50</td>\n",
              "      <td>100</td>\n",
              "    </tr>\n",
              "    <tr>\n",
              "      <th>220</th>\n",
              "      <td>Malheur</td>\n",
              "      <td>16</td>\n",
              "      <td>2020-11-06</td>\n",
              "      <td>31255</td>\n",
              "      <td>155.0</td>\n",
              "      <td>495.920653</td>\n",
              "      <td>200</td>\n",
              "      <td>50</td>\n",
              "      <td>100</td>\n",
              "    </tr>\n",
              "    <tr>\n",
              "      <th>221</th>\n",
              "      <td>Malheur</td>\n",
              "      <td>15</td>\n",
              "      <td>2020-11-07</td>\n",
              "      <td>31255</td>\n",
              "      <td>158.0</td>\n",
              "      <td>505.519117</td>\n",
              "      <td>200</td>\n",
              "      <td>50</td>\n",
              "      <td>100</td>\n",
              "    </tr>\n",
              "  </tbody>\n",
              "</table>\n",
              "</div>"
            ],
            "text/plain": [
              "      county  delta  ... onsite_and_distance  transition\n",
              "217  Malheur     16  ...                  50         100\n",
              "218  Malheur     11  ...                  50         100\n",
              "219  Malheur     17  ...                  50         100\n",
              "220  Malheur     16  ...                  50         100\n",
              "221  Malheur     15  ...                  50         100\n",
              "\n",
              "[5 rows x 9 columns]"
            ]
          },
          "metadata": {
            "tags": []
          },
          "execution_count": 31
        },
        {
          "output_type": "display_data",
          "data": {
            "image/png": "[encoded data removed]",
            "text/plain": [
              "<Figure size 432x288 with 1 Axes>"
            ]
          },
          "metadata": {
            "tags": [],
            "needs_background": "light"
          }
        },
        {
          "output_type": "display_data",
          "data": {
            "image/png": "[encoded data removed]",
            "text/plain": [
              "<Figure size 432x288 with 1 Axes>"
            ]
          },
          "metadata": {
            "tags": [],
            "needs_background": "light"
          }
        }
      ]
    },
    {
      "cell_type": "code",
      "metadata": {
        "id": "QTsU478IDNZu",
        "outputId": "1d0f3a67-1518-436a-cc84-e8f41a00b7bd",
        "colab": {
          "base_uri": "https://localhost:8080/",
          "height": 422
        }
      },
      "source": [
        "oregon = get_state('Oregon', all_counties)\n",
        "oregon.head()\n",
        "#dframe['delta'] = county['cases'] - county['cases'].shift(1, fill_value=0)\n",
        "oregon.set_index('date', inplace=True)\n",
        "oregon.sort_values('county', inplace=True)\n",
        "oregon['delta'] = oregon.groupby(['state','county'])['cases'].shift(1, fill_value=0)\n",
        "oregon.tail()"
      ],
      "execution_count": null,
      "outputs": [
        {
          "output_type": "stream",
          "text": [
            "/usr/local/lib/python3.6/dist-packages/ipykernel_launcher.py:5: SettingWithCopyWarning: \n",
            "A value is trying to be set on a copy of a slice from a DataFrame\n",
            "\n",
            "See the caveats in the documentation: https://pandas.pydata.org/pandas-docs/stable/user_guide/indexing.html#returning-a-view-versus-a-copy\n",
            "  \"\"\"\n",
            "/usr/local/lib/python3.6/dist-packages/ipykernel_launcher.py:6: SettingWithCopyWarning: \n",
            "A value is trying to be set on a copy of a slice from a DataFrame.\n",
            "Try using .loc[row_indexer,col_indexer] = value instead\n",
            "\n",
            "See the caveats in the documentation: https://pandas.pydata.org/pandas-docs/stable/user_guide/indexing.html#returning-a-view-versus-a-copy\n",
            "  \n"
          ],
          "name": "stderr"
        },
        {
          "output_type": "execute_result",
          "data": {
            "text/html": [
              "<div>\n",
              "<style scoped>\n",
              "    .dataframe tbody tr th:only-of-type {\n",
              "        vertical-align: middle;\n",
              "    }\n",
              "\n",
              "    .dataframe tbody tr th {\n",
              "        vertical-align: top;\n",
              "    }\n",
              "\n",
              "    .dataframe thead th {\n",
              "        text-align: right;\n",
              "    }\n",
              "</style>\n",
              "<table border=\"1\" class=\"dataframe\">\n",
              "  <thead>\n",
              "    <tr style=\"text-align: right;\">\n",
              "      <th></th>\n",
              "      <th>county</th>\n",
              "      <th>state</th>\n",
              "      <th>fips</th>\n",
              "      <th>cases</th>\n",
              "      <th>deaths</th>\n",
              "      <th>delta</th>\n",
              "    </tr>\n",
              "    <tr>\n",
              "      <th>date</th>\n",
              "      <th></th>\n",
              "      <th></th>\n",
              "      <th></th>\n",
              "      <th></th>\n",
              "      <th></th>\n",
              "      <th></th>\n",
              "    </tr>\n",
              "  </thead>\n",
              "  <tbody>\n",
              "    <tr>\n",
              "      <th>2020-07-17</th>\n",
              "      <td>Yamhill</td>\n",
              "      <td>Oregon</td>\n",
              "      <td>41071</td>\n",
              "      <td>222</td>\n",
              "      <td>9</td>\n",
              "      <td>220</td>\n",
              "    </tr>\n",
              "    <tr>\n",
              "      <th>2020-07-18</th>\n",
              "      <td>Yamhill</td>\n",
              "      <td>Oregon</td>\n",
              "      <td>41071</td>\n",
              "      <td>229</td>\n",
              "      <td>9</td>\n",
              "      <td>222</td>\n",
              "    </tr>\n",
              "    <tr>\n",
              "      <th>2020-07-19</th>\n",
              "      <td>Yamhill</td>\n",
              "      <td>Oregon</td>\n",
              "      <td>41071</td>\n",
              "      <td>235</td>\n",
              "      <td>9</td>\n",
              "      <td>229</td>\n",
              "    </tr>\n",
              "    <tr>\n",
              "      <th>2020-07-01</th>\n",
              "      <td>Yamhill</td>\n",
              "      <td>Oregon</td>\n",
              "      <td>41071</td>\n",
              "      <td>126</td>\n",
              "      <td>8</td>\n",
              "      <td>235</td>\n",
              "    </tr>\n",
              "    <tr>\n",
              "      <th>2020-11-07</th>\n",
              "      <td>Yamhill</td>\n",
              "      <td>Oregon</td>\n",
              "      <td>41071</td>\n",
              "      <td>1148</td>\n",
              "      <td>15</td>\n",
              "      <td>126</td>\n",
              "    </tr>\n",
              "  </tbody>\n",
              "</table>\n",
              "</div>"
            ],
            "text/plain": [
              "             county   state   fips  cases  deaths  delta\n",
              "date                                                    \n",
              "2020-07-17  Yamhill  Oregon  41071    222       9    220\n",
              "2020-07-18  Yamhill  Oregon  41071    229       9    222\n",
              "2020-07-19  Yamhill  Oregon  41071    235       9    229\n",
              "2020-07-01  Yamhill  Oregon  41071    126       8    235\n",
              "2020-11-07  Yamhill  Oregon  41071   1148      15    126"
            ]
          },
          "metadata": {
            "tags": []
          },
          "execution_count": 33
        }
      ]
    },
    {
      "cell_type": "code",
      "metadata": {
        "id": "2iKJ8yh7ppbg",
        "outputId": "1de95de8-0a08-49ba-96f8-f9d9f87b0aa8",
        "colab": {
          "base_uri": "https://localhost:8080/",
          "height": 281
        }
      },
      "source": [
        "import numpy as np\n",
        "import matplotlib.pyplot as plt\n",
        "import matplotlib.collections as collections\n",
        "\n",
        "\n",
        "t = np.arange(0.0, 2, 0.01)\n",
        "s1 = np.sin(2*np.pi*t)\n",
        "s2 = 1.2*np.sin(4*np.pi*t)\n",
        "\n",
        "\n",
        "fig, ax = plt.subplots()\n",
        "ax.set_title('using span_where')\n",
        "ax.plot(polk.index.tolist(), polk['rolling_14_per'], color='black')\n",
        "ax.axhline(0, color='black', lw=2)\n",
        "\n",
        "collection = collections.BrokenBarHCollection.span_where(\n",
        "    t, ymin=0, ymax=50, where=s1 > 0, facecolor='green', alpha=0.5)\n",
        "ax.add_collection(collection)\n",
        "\n",
        "collection = collections.BrokenBarHCollection.span_where(\n",
        "    t, ymin=50, ymax=100, where=s1 < 0, facecolor='red', alpha=0.5)\n",
        "ax.add_collection(collection)\n",
        "\n",
        "\n",
        "plt.show()"
      ],
      "execution_count": null,
      "outputs": [
        {
          "output_type": "display_data",
          "data": {
            "image/png": "[encoded data removed]",
            "text/plain": [
              "<Figure size 432x288 with 1 Axes>"
            ]
          },
          "metadata": {
            "tags": [],
            "needs_background": "light"
          }
        }
      ]
    },
    {
      "cell_type": "markdown",
      "metadata": {
        "id": "pLYrBnTLfv9L"
      },
      "source": [
        "# New Section"
      ]
    },
    {
      "cell_type": "code",
      "metadata": {
        "id": "qj9R2qAQmIdZ",
        "outputId": "b6ae11f0-978e-4051-f84f-3349457deeab",
        "colab": {
          "base_uri": "https://localhost:8080/",
          "height": 453
        }
      },
      "source": [
        "#oregon = get_state('Oregon', df)\n",
        "#polk = get_county('Polk', oregon)\n",
        "\n",
        "#polk = calc_daily_diff(polk)\n",
        "#polk = polk.drop(labels=['state','cases','deaths','fips'], axis=1)\n",
        "\n",
        "#pd.set_option('display.max_rows', oregon2.shape[0]+1)\n",
        "\n",
        "#oregon2.set_index('date', inplace=True)\n",
        "\n",
        "#oregon2.dtypes\n",
        "#oregon2.info()\n",
        "\n",
        "#oregon2.all\n"
      ],
      "execution_count": null,
      "outputs": [
        {
          "output_type": "stream",
          "text": [
            "/usr/local/lib/python3.6/dist-packages/ipykernel_launcher.py:3: SettingWithCopyWarning: \n",
            "A value is trying to be set on a copy of a slice from a DataFrame.\n",
            "Try using .loc[row_indexer,col_indexer] = value instead\n",
            "\n",
            "See the caveats in the documentation: https://pandas.pydata.org/pandas-docs/stable/user_guide/indexing.html#returning-a-view-versus-a-copy\n",
            "  This is separate from the ipykernel package so we can avoid doing imports until\n"
          ],
          "name": "stderr"
        },
        {
          "output_type": "error",
          "ename": "KeyError",
          "evalue": "ignored",
          "traceback": [
            "\u001b[0;31m---------------------------------------------------------------------------\u001b[0m",
            "\u001b[0;31mKeyError\u001b[0m                                  Traceback (most recent call last)",
            "\u001b[0;32m<ipython-input-95-9091a83a7f86>\u001b[0m in \u001b[0;36m<module>\u001b[0;34m()\u001b[0m\n\u001b[1;32m      7\u001b[0m \u001b[0mpd\u001b[0m\u001b[0;34m.\u001b[0m\u001b[0mset_option\u001b[0m\u001b[0;34m(\u001b[0m\u001b[0;34m'display.max_rows'\u001b[0m\u001b[0;34m,\u001b[0m \u001b[0moregon2\u001b[0m\u001b[0;34m.\u001b[0m\u001b[0mshape\u001b[0m\u001b[0;34m[\u001b[0m\u001b[0;36m0\u001b[0m\u001b[0;34m]\u001b[0m\u001b[0;34m+\u001b[0m\u001b[0;36m1\u001b[0m\u001b[0;34m)\u001b[0m\u001b[0;34m\u001b[0m\u001b[0;34m\u001b[0m\u001b[0m\n\u001b[1;32m      8\u001b[0m \u001b[0;34m\u001b[0m\u001b[0m\n\u001b[0;32m----> 9\u001b[0;31m \u001b[0moregon2\u001b[0m\u001b[0;34m.\u001b[0m\u001b[0mset_index\u001b[0m\u001b[0;34m(\u001b[0m\u001b[0;34m'date'\u001b[0m\u001b[0;34m,\u001b[0m \u001b[0minplace\u001b[0m\u001b[0;34m=\u001b[0m\u001b[0;32mTrue\u001b[0m\u001b[0;34m)\u001b[0m\u001b[0;34m\u001b[0m\u001b[0;34m\u001b[0m\u001b[0m\n\u001b[0m\u001b[1;32m     10\u001b[0m \u001b[0;34m\u001b[0m\u001b[0m\n\u001b[1;32m     11\u001b[0m \u001b[0moregon2\u001b[0m\u001b[0;34m.\u001b[0m\u001b[0mdtypes\u001b[0m\u001b[0;34m\u001b[0m\u001b[0;34m\u001b[0m\u001b[0m\n",
            "\u001b[0;32m/usr/local/lib/python3.6/dist-packages/pandas/core/frame.py\u001b[0m in \u001b[0;36mset_index\u001b[0;34m(self, keys, drop, append, inplace, verify_integrity)\u001b[0m\n\u001b[1;32m   4553\u001b[0m \u001b[0;34m\u001b[0m\u001b[0m\n\u001b[1;32m   4554\u001b[0m         \u001b[0;32mif\u001b[0m \u001b[0mmissing\u001b[0m\u001b[0;34m:\u001b[0m\u001b[0;34m\u001b[0m\u001b[0;34m\u001b[0m\u001b[0m\n\u001b[0;32m-> 4555\u001b[0;31m             \u001b[0;32mraise\u001b[0m \u001b[0mKeyError\u001b[0m\u001b[0;34m(\u001b[0m\u001b[0;34mf\"None of {missing} are in the columns\"\u001b[0m\u001b[0;34m)\u001b[0m\u001b[0;34m\u001b[0m\u001b[0;34m\u001b[0m\u001b[0m\n\u001b[0m\u001b[1;32m   4556\u001b[0m \u001b[0;34m\u001b[0m\u001b[0m\n\u001b[1;32m   4557\u001b[0m         \u001b[0;32mif\u001b[0m \u001b[0minplace\u001b[0m\u001b[0;34m:\u001b[0m\u001b[0;34m\u001b[0m\u001b[0;34m\u001b[0m\u001b[0m\n",
            "\u001b[0;31mKeyError\u001b[0m: \"None of ['date'] are in the columns\""
          ]
        }
      ]
    },
    {
      "cell_type": "code",
      "metadata": {
        "id": "sOg3lp-I6a-F",
        "outputId": "f00cd3a2-272d-4424-92f2-5973849b1b15",
        "colab": {
          "base_uri": "https://localhost:8080/",
          "height": 235
        }
      },
      "source": [
        "polk.head()"
      ],
      "execution_count": null,
      "outputs": [
        {
          "output_type": "execute_result",
          "data": {
            "text/html": [
              "<div>\n",
              "<style scoped>\n",
              "    .dataframe tbody tr th:only-of-type {\n",
              "        vertical-align: middle;\n",
              "    }\n",
              "\n",
              "    .dataframe tbody tr th {\n",
              "        vertical-align: top;\n",
              "    }\n",
              "\n",
              "    .dataframe thead th {\n",
              "        text-align: right;\n",
              "    }\n",
              "</style>\n",
              "<table border=\"1\" class=\"dataframe\">\n",
              "  <thead>\n",
              "    <tr style=\"text-align: right;\">\n",
              "      <th></th>\n",
              "      <th>county</th>\n",
              "      <th>delta</th>\n",
              "    </tr>\n",
              "    <tr>\n",
              "      <th>date</th>\n",
              "      <th></th>\n",
              "      <th></th>\n",
              "    </tr>\n",
              "  </thead>\n",
              "  <tbody>\n",
              "    <tr>\n",
              "      <th>2020-03-11</th>\n",
              "      <td>Polk</td>\n",
              "      <td>1</td>\n",
              "    </tr>\n",
              "    <tr>\n",
              "      <th>2020-03-12</th>\n",
              "      <td>Polk</td>\n",
              "      <td>0</td>\n",
              "    </tr>\n",
              "    <tr>\n",
              "      <th>2020-03-13</th>\n",
              "      <td>Polk</td>\n",
              "      <td>0</td>\n",
              "    </tr>\n",
              "    <tr>\n",
              "      <th>2020-03-14</th>\n",
              "      <td>Polk</td>\n",
              "      <td>0</td>\n",
              "    </tr>\n",
              "    <tr>\n",
              "      <th>2020-03-15</th>\n",
              "      <td>Polk</td>\n",
              "      <td>0</td>\n",
              "    </tr>\n",
              "  </tbody>\n",
              "</table>\n",
              "</div>"
            ],
            "text/plain": [
              "           county  delta\n",
              "date                    \n",
              "2020-03-11   Polk      1\n",
              "2020-03-12   Polk      0\n",
              "2020-03-13   Polk      0\n",
              "2020-03-14   Polk      0\n",
              "2020-03-15   Polk      0"
            ]
          },
          "metadata": {
            "tags": []
          },
          "execution_count": 80
        }
      ]
    },
    {
      "cell_type": "code",
      "metadata": {
        "id": "0QE7jhQd0i4v",
        "outputId": "5ed4abae-a360-4675-c4af-0c3280c0663a",
        "colab": {
          "base_uri": "https://localhost:8080/",
          "height": 312
        }
      },
      "source": [
        "polk.plot()"
      ],
      "execution_count": null,
      "outputs": [
        {
          "output_type": "execute_result",
          "data": {
            "text/plain": [
              "<matplotlib.axes._subplots.AxesSubplot at 0x7f88de428a58>"
            ]
          },
          "metadata": {
            "tags": []
          },
          "execution_count": 81
        },
        {
          "output_type": "display_data",
          "data": {
            "image/png": "[encoded data removed]",
            "text/plain": [
              "<Figure size 432x288 with 1 Axes>"
            ]
          },
          "metadata": {
            "tags": [],
            "needs_background": "light"
          }
        }
      ]
    },
    {
      "cell_type": "code",
      "metadata": {
        "id": "CcrDiWOpZeoX",
        "outputId": "b00efbc6-68a5-4342-cf5e-55460e6c6057",
        "colab": {
          "base_uri": "https://localhost:8080/",
          "height": 204
        }
      },
      "source": [
        "counties = get_county_pops()\n",
        "\n",
        "polk = pd.merge(polk, counties, on = 'county', how='outer')\n",
        "\n",
        "polk.head()"
      ],
      "execution_count": null,
      "outputs": [
        {
          "output_type": "execute_result",
          "data": {
            "text/html": [
              "<div>\n",
              "<style scoped>\n",
              "    .dataframe tbody tr th:only-of-type {\n",
              "        vertical-align: middle;\n",
              "    }\n",
              "\n",
              "    .dataframe tbody tr th {\n",
              "        vertical-align: top;\n",
              "    }\n",
              "\n",
              "    .dataframe thead th {\n",
              "        text-align: right;\n",
              "    }\n",
              "</style>\n",
              "<table border=\"1\" class=\"dataframe\">\n",
              "  <thead>\n",
              "    <tr style=\"text-align: right;\">\n",
              "      <th></th>\n",
              "      <th>date</th>\n",
              "      <th>county</th>\n",
              "      <th>delta</th>\n",
              "      <th>population</th>\n",
              "    </tr>\n",
              "  </thead>\n",
              "  <tbody>\n",
              "    <tr>\n",
              "      <th>0</th>\n",
              "      <td>2020-03-11</td>\n",
              "      <td>Polk</td>\n",
              "      <td>1.0</td>\n",
              "      <td>88200</td>\n",
              "    </tr>\n",
              "    <tr>\n",
              "      <th>1</th>\n",
              "      <td>2020-03-12</td>\n",
              "      <td>Polk</td>\n",
              "      <td>0.0</td>\n",
              "      <td>88200</td>\n",
              "    </tr>\n",
              "    <tr>\n",
              "      <th>2</th>\n",
              "      <td>2020-03-13</td>\n",
              "      <td>Polk</td>\n",
              "      <td>0.0</td>\n",
              "      <td>88200</td>\n",
              "    </tr>\n",
              "    <tr>\n",
              "      <th>3</th>\n",
              "      <td>2020-03-14</td>\n",
              "      <td>Polk</td>\n",
              "      <td>0.0</td>\n",
              "      <td>88200</td>\n",
              "    </tr>\n",
              "    <tr>\n",
              "      <th>4</th>\n",
              "      <td>2020-03-15</td>\n",
              "      <td>Polk</td>\n",
              "      <td>0.0</td>\n",
              "      <td>88200</td>\n",
              "    </tr>\n",
              "  </tbody>\n",
              "</table>\n",
              "</div>"
            ],
            "text/plain": [
              "        date county  delta  population\n",
              "0 2020-03-11   Polk    1.0       88200\n",
              "1 2020-03-12   Polk    0.0       88200\n",
              "2 2020-03-13   Polk    0.0       88200\n",
              "3 2020-03-14   Polk    0.0       88200\n",
              "4 2020-03-15   Polk    0.0       88200"
            ]
          },
          "metadata": {
            "tags": []
          },
          "execution_count": 96
        }
      ]
    },
    {
      "cell_type": "code",
      "metadata": {
        "id": "ETTJMEIxNj4r",
        "outputId": "c2a0457f-ba0d-4719-ea5c-a5c029962b2a",
        "colab": {
          "base_uri": "https://localhost:8080/",
          "height": 204
        }
      },
      "source": [
        "url2 = 'http://rob.axpr.net/oregoncounties.csv'\n",
        "counties = pd.read_csv(url2, dtype={\"CTYNAME\": str})\n",
        "\n",
        "counties[\"CTYNAME\"] = counties[\"CTYNAME\"].str.split(\" \", n = 1, expand = True) \n",
        "\n",
        "counties = counties.drop(labels=\"GrowthRate\", axis=1)\n",
        "\n",
        "counties = counties.rename(columns={\"CTYNAME\": \"county\", \"pop2020\": \"population\"}, errors=\"raise\")\n",
        "\n",
        "counties.head()\n",
        "\n",
        "#polk = oregon2.join(counties, on=\"county\", how=\"left\")\n",
        "\n",
        "polk = pd.merge(oregon2, counties, \n",
        "                     on = 'county', \n",
        "                     how='outer')\n",
        "\n",
        "polk.head()"
      ],
      "execution_count": null,
      "outputs": [
        {
          "output_type": "execute_result",
          "data": {
            "text/html": [
              "<div>\n",
              "<style scoped>\n",
              "    .dataframe tbody tr th:only-of-type {\n",
              "        vertical-align: middle;\n",
              "    }\n",
              "\n",
              "    .dataframe tbody tr th {\n",
              "        vertical-align: top;\n",
              "    }\n",
              "\n",
              "    .dataframe thead th {\n",
              "        text-align: right;\n",
              "    }\n",
              "</style>\n",
              "<table border=\"1\" class=\"dataframe\">\n",
              "  <thead>\n",
              "    <tr style=\"text-align: right;\">\n",
              "      <th></th>\n",
              "      <th>county</th>\n",
              "      <th>delta</th>\n",
              "      <th>population</th>\n",
              "    </tr>\n",
              "  </thead>\n",
              "  <tbody>\n",
              "    <tr>\n",
              "      <th>0</th>\n",
              "      <td>Polk</td>\n",
              "      <td>1.0</td>\n",
              "      <td>88200</td>\n",
              "    </tr>\n",
              "    <tr>\n",
              "      <th>1</th>\n",
              "      <td>Polk</td>\n",
              "      <td>0.0</td>\n",
              "      <td>88200</td>\n",
              "    </tr>\n",
              "    <tr>\n",
              "      <th>2</th>\n",
              "      <td>Polk</td>\n",
              "      <td>0.0</td>\n",
              "      <td>88200</td>\n",
              "    </tr>\n",
              "    <tr>\n",
              "      <th>3</th>\n",
              "      <td>Polk</td>\n",
              "      <td>0.0</td>\n",
              "      <td>88200</td>\n",
              "    </tr>\n",
              "    <tr>\n",
              "      <th>4</th>\n",
              "      <td>Polk</td>\n",
              "      <td>0.0</td>\n",
              "      <td>88200</td>\n",
              "    </tr>\n",
              "  </tbody>\n",
              "</table>\n",
              "</div>"
            ],
            "text/plain": [
              "  county  delta  population\n",
              "0   Polk    1.0       88200\n",
              "1   Polk    0.0       88200\n",
              "2   Polk    0.0       88200\n",
              "3   Polk    0.0       88200\n",
              "4   Polk    0.0       88200"
            ]
          },
          "metadata": {
            "tags": []
          },
          "execution_count": 70
        }
      ]
    }
  ]
}